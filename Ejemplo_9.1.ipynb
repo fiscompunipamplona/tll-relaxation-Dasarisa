{
 "cells": [
  {
   "cell_type": "markdown",
   "metadata": {},
   "source": [
    "# Ejemplo 9.1: Solcuión de la Ecuación de Laplace:\n",
    "\n",
    "Vamos a computar una solución a el problema electrostacio bi-dimensional de la Fig. 9.1. usando el metodo de Jacobi, para el caso en que la caja es de un metro a lo largo de cada lado, $V=1 volt$, y el espacido de la rejilla $a=1 cm$, entonces hay 100 puntos de la rejilla en cada lado, o 101 si contamos los puntos en el inicio y el final. Aqui hay un programa para calcular la solución y hacer un grafico de la densidad de los resultados:"
   ]
  },
  {
   "cell_type": "code",
   "execution_count": 2,
   "metadata": {},
   "outputs": [
    {
     "data": {
      "image/png": "[encoded data removed]",
      "text/plain": [
       "<Figure size 432x288 with 1 Axes>"
      ]
     },
     "metadata": {
      "needs_background": "light"
     },
     "output_type": "display_data"
    }
   ],
   "source": [
    "from numpy import empty,zeros,max\n",
    "from pylab import imshow,gray,show\n",
    "\n",
    "#Constantes\n",
    "M = 100        #Cuadrados de rejilla en un lado\n",
    "V = 1.0        #Voltaje en el muro tope \n",
    "target = 1e-6  #Precisión \n",
    "\n",
    "#Creando arrays para guardar los valores de potencial\n",
    "phi = zeros([M+1,M+1],float)\n",
    "phi[0,:] = V\n",
    "phiprime = empty([M+1,M+1],float)\n",
    "\n",
    "#Main loop\n",
    "delta = 1.0\n",
    "while delta>target:\n",
    "    \n",
    "    #Calcular los nuevos valores de potencial\n",
    "    for i in range(M+1):\n",
    "        for j in range(M+1):\n",
    "            if i==0 or i==M or j==0 or j==M:\n",
    "                phiprime[i,j] = phi[i,j]\n",
    "            else:\n",
    "                phiprime[i,j] = (phi[i+1,j] + phi[i-1,j] + phi[i,j+1] + phi[i,j-1])/4\n",
    "                \n",
    "    #Calculando la diferencia maxima de los valores viejos\n",
    "    delta = max(abs(phi-phiprime))\n",
    "                \n",
    "    #Cambiando los dos arrays\n",
    "    phi,phiprime = phiprime,phi\n",
    "                \n",
    "#Hacer grafico\n",
    "imshow(phi)\n",
    "gray()\n",
    "show()\n",
    "            "
   ]
  },
  {
   "cell_type": "code",
   "execution_count": null,
   "metadata": {},
   "outputs": [],
   "source": []
  }
 ],
 "metadata": {
  "kernelspec": {
   "display_name": "Python 3",
   "language": "python",
   "name": "python3"
  },
  "language_info": {
   "codemirror_mode": {
    "name": "ipython",
    "version": 3
   },
   "file_extension": ".py",
   "mimetype": "text/x-python",
   "name": "python",
   "nbconvert_exporter": "python",
   "pygments_lexer": "ipython3",
   "version": "3.5.2"
  }
 },
 "nbformat": 4,
 "nbformat_minor": 2
}
